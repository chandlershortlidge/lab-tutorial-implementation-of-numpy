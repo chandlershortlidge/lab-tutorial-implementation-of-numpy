{
 "cells": [
  {
   "cell_type": "markdown",
   "metadata": {
    "id": "8A01NEn8SKWm"
   },
   "source": [
    "# NumPy (Numerical Python)\n",
    "\n",
    "NumPy works on **multidimensional homogeneous array objects** and it provides a collection of functions to process those arrays. NumPy is known for the fast numerical computations. Numpy provides a high level syntax and it has a very vibrant ecosystem that interopertes for different application areas. The n-dimensional arrays are known as **ndarray**. ndarray forms the primitive building blocks of numerous python libraries."
   ]
  },
  {
   "cell_type": "markdown",
   "metadata": {
    "id": "kRC90wkCaGdV"
   },
   "source": [
    "# Importing numpy\n",
    "\n",
    "NumPy is available by default in Colab notebooks. Therefore the library can be invoked directly using the *import* statement\n",
    "\n",
    "*PS: Follow the instructions on the [Installation section](https://numpy.org/install/) of NumPy to make local installations.*\n"
   ]
  },
  {
   "cell_type": "code",
   "execution_count": 1,
   "metadata": {
    "id": "f6ey4hZmBYoe"
   },
   "outputs": [
    {
     "name": "stdout",
     "output_type": "stream",
     "text": [
      "Loaded 2.2.6 version of numpy!!!\n"
     ]
    }
   ],
   "source": [
    "import numpy as np\n",
    "print(\"Loaded\", np.__version__, \"version of numpy!!!\")"
   ]
  },
  {
   "cell_type": "markdown",
   "metadata": {
    "id": "E1QyghMraoIU"
   },
   "source": [
    "# Creating NumPy arrays\n",
    "\n",
    "The basic ndarray is created using the **array** function, which takes any sequence as an input parameter. NumPy arrays can be easily created from lists \n"
   ]
  },
  {
   "cell_type": "code",
   "execution_count": 2,
   "metadata": {
    "id": "69_hyreHan2i"
   },
   "outputs": [
    {
     "name": "stdout",
     "output_type": "stream",
     "text": [
      "var1 = [1 2 3 4 5]\n",
      "var2 = [[1 2 3 4 5]\n",
      " [6 7 8 9 0]]\n"
     ]
    }
   ],
   "source": [
    "# creating a 1 dimensional array\n",
    "var1 = np.array([1, 2, 3, 4, 5])\n",
    "\n",
    "# creating a 2 dimensional array\n",
    "var2 = np.array([[1, 2, 3, 4, 5],\n",
    "                 [6, 7, 8, 9, 0]])\n",
    "\n",
    "print(\"var1 =\", var1)\n",
    "print(\"var2 =\", var2)"
   ]
  },
  {
   "cell_type": "code",
   "execution_count": 3,
   "metadata": {
    "id": "-BsQcnkzfUnw"
   },
   "outputs": [
    {
     "name": "stdout",
     "output_type": "stream",
     "text": [
      "var3 = [1. 2. 3.]\n",
      "var4 = [1 2 3]\n",
      "var5 = [1.+0.j 2.+0.j 3.+0.j]\n"
     ]
    }
   ],
   "source": [
    "# It is also possible to specify the type of the element during array creation\n",
    "var3 = np.array([1, 2, 3], dtype=np.float32)\n",
    "print(\"var3 =\", var3)\n",
    "\n",
    "# Notice the usage of numpy arrays to create another array with a different dtype\n",
    "var4 = np.array(var3, dtype=np.int32)\n",
    "print(\"var4 =\", var4)\n",
    "\n",
    "var5 = np.array(var4, dtype=complex)\n",
    "print(\"var5 =\", var5)"
   ]
  },
  {
   "cell_type": "markdown",
   "metadata": {
    "id": "txjNpncRbr63"
   },
   "source": [
    "# Array Properties\n",
    "The important attributes of the ndarray are\n",
    "\n",
    "*   shape: Dimensions of the array\n",
    "*   size: Total number of elements in the array\n",
    "*   ndim: Number of axes\n",
    "*   dtype: Type of the elements of the array\n",
    "\n"
   ]
  },
  {
   "cell_type": "code",
   "execution_count": 4,
   "metadata": {
    "id": "-_R08BJ7djMc"
   },
   "outputs": [
    {
     "name": "stdout",
     "output_type": "stream",
     "text": [
      "int64 \t (5,) \t 5 \t 1\n",
      "int64 \t (2, 5) \t 10 \t 2\n",
      "float32 \t (3,) \t 3 \t 1\n",
      "int32 \t (3,) \t 3 \t 1\n",
      "complex128 \t (3,) \t 3 \t 1\n"
     ]
    }
   ],
   "source": [
    "print(var1.dtype, '\\t', var1.shape, '\\t', var1.size, '\\t', var1.ndim)\n",
    "print(var2.dtype, '\\t', var2.shape, '\\t', var2.size, '\\t', var2.ndim)\n",
    "print(var3.dtype, '\\t', var3.shape, '\\t', var3.size, '\\t', var3.ndim)\n",
    "print(var4.dtype, '\\t', var4.shape, '\\t', var4.size, '\\t', var4.ndim)\n",
    "print(var5.dtype, '\\t', var5.shape, '\\t', var5.size, '\\t', var5.ndim)"
   ]
  },
  {
   "cell_type": "markdown",
   "metadata": {
    "id": "s_0VKHuihhkU"
   },
   "source": [
    "# Other array creation methods\n",
    "\n",
    "It is not always necessary to have the elements defined during the creation of the arrays. There are several NumPy functions that allows you to create arrays to act as placeholders before the actual computations.\n",
    "\n",
    "**Exercise #01:**\n",
    "\n",
    "*   Create different array objects using the following functions: (1) zeros, (2) ones, (3) empty, (4) zeros_like, (5) ones_like, (6) empty_like \n"
   ]
  },
  {
   "cell_type": "code",
   "execution_count": null,
   "metadata": {
    "id": "88Gce1SwjCOO"
   },
   "outputs": [
    {
     "name": "stdout",
     "output_type": "stream",
     "text": [
      "[0. 0. 0. 0. 0.]\n",
      "[1. 1. 1. 1. 1.]\n",
      "[1. 1. 1. 1. 1.]\n",
      "0\n",
      "1\n"
     ]
    },
    {
     "data": {
      "text/plain": [
       "array(1)"
      ]
     },
     "execution_count": 15,
     "metadata": {},
     "output_type": "execute_result"
    }
   ],
   "source": [
    "zeros = np.zeros(5) \n",
    "print(zeros)\n",
    "\n",
    "ones = np.ones(5)\n",
    "print(ones)\n",
    "\n",
    "empty = np.empty(5)\n",
    "print(empty)\n",
    "\n",
    "zeros_like = np.zeros_like(5)\n",
    "print(zeros_like)\n",
    "\n",
    "ones_like = np.ones_like(5)\n",
    "print(ones_like)\n",
    "\n",
    "empty_like = np.empty_like(5)\n",
    "empty_like\n"
   ]
  },
  {
   "cell_type": "code",
   "execution_count": 18,
   "metadata": {},
   "outputs": [
    {
     "name": "stdout",
     "output_type": "stream",
     "text": [
      "[0. 0. 0. 0. 0. 0. 0. 0. 0. 0.]\n"
     ]
    }
   ],
   "source": [
    "empty = np.empty(10)\n",
    "print(empty)"
   ]
  },
  {
   "cell_type": "code",
   "execution_count": 20,
   "metadata": {},
   "outputs": [
    {
     "data": {
      "text/plain": [
       "array([0, 2, 4, 6, 8])"
      ]
     },
     "execution_count": 20,
     "metadata": {},
     "output_type": "execute_result"
    }
   ],
   "source": [
    "np.arange(0, 10, 2)"
   ]
  },
  {
   "cell_type": "code",
   "execution_count": 40,
   "metadata": {},
   "outputs": [
    {
     "data": {
      "text/plain": [
       "array([ 0.,  2.,  4.,  6.,  8., 10.])"
      ]
     },
     "execution_count": 40,
     "metadata": {},
     "output_type": "execute_result"
    }
   ],
   "source": [
    "np.linspace(0, 10, 6)"
   ]
  },
  {
   "cell_type": "markdown",
   "metadata": {
    "id": "wkSikFsXvySG"
   },
   "source": [
    "**Exercise #02:**\n",
    "\n",
    "*   What is the difference between **empty** and **zeros** methods?\n",
    "*   What is the use of **arange** and **linspace** functions?\n",
    "\n"
   ]
  },
  {
   "cell_type": "markdown",
   "metadata": {
    "id": "jHwXGNWljGA6"
   },
   "source": [
    "**Solution**\n",
    "\n",
    "zeros -> creates an array where all elements are 0\n",
    "\n",
    "empty -> returns a random array of numbers to initalize an array to later populate with new data \n",
    "\n",
    "arrange -> creates a range of values with three arguments: `start`, `stop`, and `step`. It returns an array of values starting from `start`, up to (but not including) `stop`, with increments of `step`.\n",
    "\n",
    "linspace -> creates a sequences of evenly spaced values within a specified interval. It allows you to define a start point and an end point for a given range and determine the total number of evenly spaced values you want within that interval. Importantly, this sequence includes both the start and end points.\n",
    "\n",
    "\n",
    "..."
   ]
  },
  {
   "cell_type": "markdown",
   "metadata": {
    "id": "wbOCONUDjb0q"
   },
   "source": [
    "# Shape Manipulations"
   ]
  },
  {
   "cell_type": "code",
   "execution_count": 58,
   "metadata": {
    "id": "D5acQVQWqKUC"
   },
   "outputs": [
    {
     "name": "stdout",
     "output_type": "stream",
     "text": [
      "[0 1 2 3 4 5 6 7 8 9]\n"
     ]
    }
   ],
   "source": [
    "# Creating a numpy array using arrange function\n",
    "var6 = np.arange(10, dtype=int)\n",
    "print(var6)"
   ]
  },
  {
   "cell_type": "code",
   "execution_count": 59,
   "metadata": {},
   "outputs": [
    {
     "name": "stdout",
     "output_type": "stream",
     "text": [
      "[[0 1 2 3 4]\n",
      " [5 6 7 8 9]]\n"
     ]
    }
   ],
   "source": [
    "# Reshaping the array into 2 x 5 array\n",
    "var6 = var6.reshape(2,5)\n",
    "print(var6)"
   ]
  },
  {
   "cell_type": "code",
   "execution_count": 60,
   "metadata": {},
   "outputs": [
    {
     "name": "stdout",
     "output_type": "stream",
     "text": [
      "[[[0 1 2 3 4]\n",
      "  [5 6 7 8 9]]]\n"
     ]
    }
   ],
   "source": [
    "# Reshaping the array in 3 dimensions\n",
    "var6 = var6.reshape(1,2,5)\n",
    "print(var6)"
   ]
  },
  {
   "cell_type": "code",
   "execution_count": 61,
   "metadata": {},
   "outputs": [
    {
     "name": "stdout",
     "output_type": "stream",
     "text": [
      "[[[0 1 2 3 4]\n",
      "  [5 6 7 8 9]]]\n"
     ]
    }
   ],
   "source": [
    "# Note that it is not always necessary to give all three dimensions\n",
    "var6 = var6.reshape(1,2,-1)\n",
    "print(var6)"
   ]
  },
  {
   "cell_type": "code",
   "execution_count": 62,
   "metadata": {},
   "outputs": [
    {
     "name": "stdout",
     "output_type": "stream",
     "text": [
      "None\n"
     ]
    }
   ],
   "source": [
    "var6 = var6.resize(1, 2, 5)\n",
    "print(var6)"
   ]
  },
  {
   "cell_type": "markdown",
   "metadata": {
    "id": "XxeMES7tr-4z"
   },
   "source": [
    "**Exercise #03:**\n",
    "\n",
    "*   What is the difference between reshape and resize methods?"
   ]
  },
  {
   "cell_type": "markdown",
   "metadata": {
    "id": "k3VFt4FMetim"
   },
   "source": [
    "**Solution**\n",
    "\n",
    "*Reshaping* allows you to convert 1D arrays into 2D arrays (and vice versa), rearrange the dimensions of multi-dimensional arrays, and efficiently prepare data for various data analysis and machine learning tasks.\n",
    "\n",
    "*resize* Modifies the original array in-place. Changes the actual array's shape and returns None\n",
    "\n",
    "..."
   ]
  },
  {
   "cell_type": "markdown",
   "metadata": {
    "id": "i9ZCRBDlqENA"
   },
   "source": [
    "# Indexing, Slicing and Iterating\n",
    "\n",
    "Indexing and slicing is similar to python lists. We use the **[ ]** operator for providing slices and indices."
   ]
  },
  {
   "cell_type": "code",
   "execution_count": 63,
   "metadata": {
    "id": "P-CZ_trPhBwH"
   },
   "outputs": [
    {
     "name": "stdout",
     "output_type": "stream",
     "text": [
      "2\n",
      "[1 2]\n"
     ]
    }
   ],
   "source": [
    "var7 = np.array([1, 2, 3, 4, 5])\n",
    "\n",
    "# indexing the second element\n",
    "# Remember array indices start with 0 in numpy\n",
    "print(var7[1])\n",
    "\n",
    "# slicing the first two elements of the array\n",
    "print(var7[0:2])"
   ]
  },
  {
   "cell_type": "code",
   "execution_count": 64,
   "metadata": {
    "id": "aTpnDW7qhpZX"
   },
   "outputs": [
    {
     "name": "stdout",
     "output_type": "stream",
     "text": [
      "[2 4]\n"
     ]
    }
   ],
   "source": [
    "# it is also possible to slice arrays based on a condition\n",
    "print(var7[var7 % 2 == 0])  # prints all the even numbers in the array"
   ]
  },
  {
   "cell_type": "code",
   "execution_count": 66,
   "metadata": {
    "id": "MP7Z7Zsikeaf"
   },
   "outputs": [
    {
     "name": "stdout",
     "output_type": "stream",
     "text": [
      "[[1 2 3]\n",
      " [4 5 6]\n",
      " [7 8 9]]\n"
     ]
    }
   ],
   "source": [
    "var8 = np.array([[1, 2, 3], [4, 5, 6], [7, 8, 9]])\n",
    "print(var8)"
   ]
  },
  {
   "cell_type": "code",
   "execution_count": 67,
   "metadata": {},
   "outputs": [
    {
     "name": "stdout",
     "output_type": "stream",
     "text": [
      "5\n"
     ]
    }
   ],
   "source": [
    "# indexing the element at second row and second column\n",
    "print(var8[1,1])"
   ]
  },
  {
   "cell_type": "code",
   "execution_count": 68,
   "metadata": {},
   "outputs": [
    {
     "name": "stdout",
     "output_type": "stream",
     "text": [
      "[4 5 6]\n",
      "[2 5 8]\n"
     ]
    }
   ],
   "source": [
    "# it is possible to slice the entire row or column\n",
    "print(var8[1])\n",
    "print(var8[:,1])"
   ]
  },
  {
   "cell_type": "code",
   "execution_count": 69,
   "metadata": {},
   "outputs": [
    {
     "name": "stdout",
     "output_type": "stream",
     "text": [
      "[[1 2]\n",
      " [4 5]]\n"
     ]
    }
   ],
   "source": [
    "# slice a particular range\n",
    "print(var8[0:2, 0:2])"
   ]
  },
  {
   "cell_type": "markdown",
   "metadata": {
    "id": "EoGBpQv_wDrn"
   },
   "source": [
    "A visual illustration of slicing mechanism can be seen here\n",
    "\n",
    "![numpy_indexing.png](https://education-team-2020.s3.eu-west-1.amazonaws.com/ds-ai/indexing-and-slicing.png)\n",
    "\n",
    "*Reference: https://lectures.scientific-python.org/intro/numpy/array_object.html#indexing-and-slicing*"
   ]
  },
  {
   "cell_type": "markdown",
   "metadata": {
    "id": "KPx5YbuBiKjw"
   },
   "source": [
    "**Exercise #04:**\n",
    "\n",
    "*   What is the use of non-zero function? Provide an example of how non-zero function can be used.\n",
    "\n"
   ]
  },
  {
   "cell_type": "markdown",
   "metadata": {
    "id": "0SbXe2gHipxo"
   },
   "source": [
    "**Solution**\n",
    "\n",
    "Non-zero finds the positions (indices) of all the non-zero elements. \n",
    "\n",
    "If you have test scores [0, 85, 0, 92, 0, 78] where 0 means \"didn't take the test\". nonzero() would tell you positions [1, 3, 5] - which students actually took the test!\n",
    "\n",
    "..."
   ]
  },
  {
   "cell_type": "code",
   "execution_count": 76,
   "metadata": {
    "id": "07q5D1ygiblJ"
   },
   "outputs": [
    {
     "data": {
      "text/plain": [
       "(array([1, 3, 5]),)"
      ]
     },
     "execution_count": 76,
     "metadata": {},
     "output_type": "execute_result"
    }
   ],
   "source": [
    "test_scores = np.array([0, 85, 0, 92, 0, 78])\n",
    "student_list = test_scores.nonzero()\n",
    "student_list"
   ]
  },
  {
   "cell_type": "markdown",
   "metadata": {
    "id": "OJm98xQKzwgx"
   },
   "source": [
    "Iterating an array can be either performed using the python list style or using the nditer function."
   ]
  },
  {
   "cell_type": "code",
   "execution_count": 72,
   "metadata": {
    "id": "trCOmdaxz3L6"
   },
   "outputs": [
    {
     "name": "stdout",
     "output_type": "stream",
     "text": [
      "[1 2 3]\n",
      "[4 5 6]\n",
      "1\n",
      "2\n",
      "3\n",
      "4\n",
      "5\n",
      "6\n"
     ]
    }
   ],
   "source": [
    "var9 = np.array([[1, 2, 3], [4, 5, 6]])\n",
    "\n",
    "for i in var9: # outer loop to access row\n",
    "    print(i) # returns the entire row\n",
    "\n",
    "for i in var9: # outer loop to access row\n",
    "    for j in i:  # iterating each element of the row\n",
    "        print(j) # returns the element value"
   ]
  },
  {
   "cell_type": "code",
   "execution_count": 71,
   "metadata": {
    "id": "yiSVVSTpyoZI"
   },
   "outputs": [
    {
     "name": "stdout",
     "output_type": "stream",
     "text": [
      "1\n",
      "2\n",
      "3\n",
      "4\n",
      "5\n",
      "6\n"
     ]
    }
   ],
   "source": [
    "# an alternative to the nesting for loop is the nditer function\n",
    "var10 = np.array([[1, 2, 3], [4, 5, 6]])\n",
    "for i in np.nditer(var10):\n",
    "    print(i)"
   ]
  },
  {
   "cell_type": "markdown",
   "metadata": {
    "id": "kQbB9NlV0J72"
   },
   "source": [
    "**Exercise #05:**\n",
    "\n",
    "*   How can we enumerate a numpy array?\n",
    "\n"
   ]
  },
  {
   "cell_type": "markdown",
   "metadata": {
    "id": "E4L8-Aso0Mef"
   },
   "source": [
    "**Solution**\n",
    "\n",
    " \"We can enumerate a NumPy array using np.ndenumerate() which gives us both the index and value of each element.\""
   ]
  },
  {
   "cell_type": "markdown",
   "metadata": {
    "id": "H5gsMBnSuNmN"
   },
   "source": [
    "It has to be noted that, slices share memory with original array. \n",
    "\n",
    "In the below example, var12 is created by slicing var11. Notice the change in var11 after modifying var12."
   ]
  },
  {
   "cell_type": "code",
   "execution_count": 77,
   "metadata": {
    "id": "wMJMuZTps94q"
   },
   "outputs": [
    {
     "name": "stdout",
     "output_type": "stream",
     "text": [
      "before changing: [1 2 3]\n",
      "after changing: [4 2 3]\n"
     ]
    }
   ],
   "source": [
    "var11 = np.array([1, 2, 3])\n",
    "\n",
    "var12 = var11[0:1]\n",
    "\n",
    "print('before changing:', var11)\n",
    "var12[0] = 4\n",
    "print('after changing:', var11)"
   ]
  },
  {
   "cell_type": "markdown",
   "metadata": {
    "id": "5gh4783VyOPN"
   },
   "source": [
    "This leaves us with the question of how the array copy works in numpy"
   ]
  },
  {
   "cell_type": "markdown",
   "metadata": {
    "id": "nj5X_ym4tk3D"
   },
   "source": [
    "# Array Copy\n",
    "\n",
    "When you create a new array using the '=' operator, no new copy of the array is created, ie, only a name is created but it refers to the same object."
   ]
  },
  {
   "cell_type": "code",
   "execution_count": 78,
   "metadata": {
    "id": "LRuyykbj5ce8"
   },
   "outputs": [
    {
     "name": "stdout",
     "output_type": "stream",
     "text": [
      "Before modifying [1 2 3 4 5]\n",
      "After modifying [2 2 3 4 5]\n"
     ]
    }
   ],
   "source": [
    "var13 = np.array([1, 2, 3, 4, 5])\n",
    "\n",
    "var14 = var13\n",
    "print('Before modifying', var13)\n",
    "\n",
    "var14[0] += 1\n",
    "print('After modifying', var13)"
   ]
  },
  {
   "cell_type": "markdown",
   "metadata": {
    "id": "O9LJvXVU6moG"
   },
   "source": [
    "When a view function is used to create a copy of the array, or when the array is sliced, the returned array is only a shallow copy of the original array, ie, an array object is created but the object points to the same data"
   ]
  },
  {
   "cell_type": "code",
   "execution_count": 79,
   "metadata": {
    "id": "wKiN-nK07P2U"
   },
   "outputs": [
    {
     "name": "stdout",
     "output_type": "stream",
     "text": [
      "Before modifying (using view) [1 2 3 4 5]\n",
      "After modifying (using view) [2 2 3 4 5]\n",
      "Before modifying (using slice) [2 2 3 4 5]\n",
      "After modifying (using slice) [2 2 4 4 5]\n"
     ]
    }
   ],
   "source": [
    "var15 = np.array([1, 2, 3, 4, 5])\n",
    "\n",
    "var16 = var15.view()\n",
    "print('Before modifying (using view)', var15)\n",
    "\n",
    "var16[0] += 1\n",
    "print('After modifying (using view)', var15)\n",
    "\n",
    "var17 = var15[0:3]\n",
    "print('Before modifying (using slice)', var15)\n",
    "\n",
    "var17[2] += 1\n",
    "print('After modifying (using slice)', var15)"
   ]
  },
  {
   "cell_type": "markdown",
   "metadata": {
    "id": "SxMWSP-o7oFo"
   },
   "source": [
    "To create a deep copy of the array, it is necessary to use the copy method"
   ]
  },
  {
   "cell_type": "code",
   "execution_count": null,
   "metadata": {
    "id": "Y5vKaBkk87Bp"
   },
   "outputs": [],
   "source": [
    "var18 = np.array([1, 2, 3, 4, 5])\n",
    "\n",
    "var19 = var18.copy()\n",
    "print('Before modifying (using copy)', var18)\n",
    "\n",
    "var19[0] += 1\n",
    "print('After modifying (using copy)', var18)"
   ]
  },
  {
   "cell_type": "markdown",
   "metadata": {
    "id": "DdxYPyqYukNf"
   },
   "source": [
    "# Adding new axis\n",
    "\n",
    "It is also possible to increase the dimensions of a numpy array. **np.newaxis** and **expand_dims** can be used to increase the dimensions of the array. This would be used very handy in building convolutional neural networks where you would need to have uniform channel lengths *(will be used in the later exercises)*."
   ]
  },
  {
   "cell_type": "code",
   "execution_count": 80,
   "metadata": {
    "id": "6pb3JQWVujSr"
   },
   "outputs": [
    {
     "name": "stdout",
     "output_type": "stream",
     "text": [
      "(5,)\n",
      "(1, 5)\n",
      "(1, 1, 5)\n",
      "(5, 1)\n",
      "(1, 5)\n"
     ]
    }
   ],
   "source": [
    "var20 = np.array([1, 2, 3, 4, 5])\n",
    "print(var20.shape)\n",
    "\n",
    "a = var20[np.newaxis, :]  # adding new axis to the first axis\n",
    "print(a.shape)\n",
    "\n",
    "b = a[np.newaxis, :]  # adding new axis to the first axis\n",
    "print(b.shape)\n",
    "\n",
    "c = np.expand_dims(var20, axis=1)  # adding new axis to the second axis\n",
    "print(c.shape)\n",
    "\n",
    "d = np.expand_dims(var20, axis=0)  # adding new axis to the first axis\n",
    "print(d.shape)"
   ]
  },
  {
   "cell_type": "markdown",
   "metadata": {
    "id": "o8xkokp5s3F4"
   },
   "source": [
    "# Broadcasting Rules\n",
    "\n",
    "Broadcasting deals with how numpy treats arrays with different sizes during arithmetic operations. In general, the smaller arrays are broadcasted into the larger array shapes so that both the arrays are compatible.\n",
    "\n",
    "Read [basic broadcasting rules](https://numpy.org/doc/stable/user/basics.broadcasting.html) for basic knowledge about broadcasting.\n",
    "Also read [Array broadcasting](https://numpy.org/doc/stable/user/theory.broadcasting.html#array-broadcasting-in-numpy).\n"
   ]
  },
  {
   "cell_type": "code",
   "execution_count": 81,
   "metadata": {
    "id": "8c8Rza6BJ3Eq"
   },
   "outputs": [
    {
     "name": "stdout",
     "output_type": "stream",
     "text": [
      "[[1.2 2.3 4. ]\n",
      " [1.2 3.4 5.2]\n",
      " [0.  1.  1.3]\n",
      " [0.  1.  0.2]]\n",
      "[[ 2.4  4.6  8. ]\n",
      " [ 2.4  6.8 10.4]\n",
      " [ 0.   2.   2.6]\n",
      " [ 0.   2.   0.4]]\n",
      "[[2.2 2.3 5. ]\n",
      " [2.2 3.4 6.2]\n",
      " [1.  1.  2.3]\n",
      " [1.  1.  1.2]]\n"
     ]
    }
   ],
   "source": [
    "var20 = np.array([[1.2, 2.3, 4.0],\n",
    "                  [1.2, 3.4, 5.2],\n",
    "                  [0.0, 1.0, 1.3],\n",
    "                  [0.0, 1.0, 2e-1]])\n",
    "\n",
    "print(var20)\n",
    "\n",
    "print(var20 * 2)  # multiplying each element with 2\n",
    "\n",
    "print(var20 + [1, 0, 1])  # multiplying each row with [1, 0, 1]]"
   ]
  },
  {
   "cell_type": "markdown",
   "metadata": {
    "id": "u-cBHSIZLX2I"
   },
   "source": [
    "**Exercise #06:**\n",
    "\n",
    "Normalizing values is an important area in any image processing and machine learning problem. In this exercise, we will try to apply normalization at different axis to understand the role of broadcasting."
   ]
  },
  {
   "cell_type": "code",
   "execution_count": 83,
   "metadata": {
    "id": "T0nzFs-8WT3n"
   },
   "outputs": [
    {
     "name": "stdout",
     "output_type": "stream",
     "text": [
      "[2.5        3.26666667 0.76666667 0.4       ]\n",
      "[0.6   1.925 2.675]\n"
     ]
    }
   ],
   "source": [
    "var21 = np.array([[1.2, 2.3, 4.0],\n",
    "                  [1.2, 3.4, 5.2],\n",
    "                  [0.0, 1.0, 1.3],\n",
    "                  [0.0, 1.0, 2e-1]])\n",
    "\n",
    "# compute row wise mean\n",
    "var21_mean = var21_mean = np.mean(var21, axis=1)\n",
    "print(var21_mean)\n",
    "\n",
    "# compute column wise mean\n",
    "var21_mean_clm = np.mean(var21, axis=0)\n",
    "print(var21_mean_clm)\n",
    "\n",
    "# do row wise mean subtraction and column wise mean subtraction\n",
    "normalized = var21 - var21_mean[:, np.newaxis] - var21_mean_clm\n",
    "\n",
    "\n",
    "\n",
    "# how do we normalize the entire array using the global mean?\n",
    "global_normalized = var21 - np.mean(var21)\n"
   ]
  },
  {
   "cell_type": "markdown",
   "metadata": {
    "id": "d1H1A0uLW-34"
   },
   "source": [
    "\n",
    "\n",
    "*   Can you think of an example of row wise normalization and column wise normalization?\n",
    "\n"
   ]
  },
  {
   "cell_type": "markdown",
   "metadata": {
    "id": "9wjQ96aYXKf3"
   },
   "source": [
    "**Solution**\n",
    "\n",
    "\"Row-wise normalization example: Standardizing test scores where each row represents a student - you'd subtract each student's average to remove individual bias.\n",
    "Column-wise normalization example: Processing sensor data where each column is a different sensor - you'd subtract each sensor's average to account for calibration differences.\"\n",
    "\n",
    "..."
   ]
  },
  {
   "cell_type": "markdown",
   "metadata": {
    "id": "DxBNbsYPYJ3Q"
   },
   "source": [
    "\n",
    "\n",
    "---\n",
    "\n",
    "\n",
    "**It has to be noted that this is not a complete tutorial covering the complete numpy aspects. This is provided as an introduction to numpy and its ease of use in numerical computation.**"
   ]
  }
 ],
 "metadata": {
  "colab": {
   "collapsed_sections": [],
   "provenance": []
  },
  "kernelspec": {
   "display_name": "Python 3",
   "language": "python",
   "name": "python3"
  },
  "language_info": {
   "codemirror_mode": {
    "name": "ipython",
    "version": 3
   },
   "file_extension": ".py",
   "mimetype": "text/x-python",
   "name": "python",
   "nbconvert_exporter": "python",
   "pygments_lexer": "ipython3",
   "version": "3.13.3"
  }
 },
 "nbformat": 4,
 "nbformat_minor": 1
}
